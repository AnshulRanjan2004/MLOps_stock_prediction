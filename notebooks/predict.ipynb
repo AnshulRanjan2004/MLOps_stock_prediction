{
 "cells": [
  {
   "cell_type": "code",
   "execution_count": 1,
   "metadata": {},
   "outputs": [],
   "source": [
    "import pandas as pd\n",
    "import numpy as np\n",
    "import pickle\n",
    "import torch\n",
    "import os\n",
    "import json\n",
    "import pytorch_lightning as pl\n",
    "\n",
    "    \n",
    "global mod\n",
    "global datamod\n",
    "global scaler\n",
    "\n",
    "class dataset(pl.LightningDataModule):\n",
    "\n",
    "    def __init__(self, scaler):\n",
    "        super(dataset,self).__init__()\n",
    "        self.lookback_size = 5\n",
    "        self.scaler=scaler\n",
    "    \n",
    "    def predict_tensors(self,df):\n",
    "    \n",
    "        X = []\n",
    "\n",
    "        for i in np.arange(self.lookback_size, len(df)+1):\n",
    "            X.append(df[i-self.lookback_size:i])\n",
    "        \n",
    "        X = np.array(X).reshape(-1,self.lookback_size,1)\n",
    "        return torch.from_numpy(X).float()\n",
    "\n",
    "    def predict_dataloader(self, data):\n",
    "        self.pred_df= self.scaler.transform(data)\n",
    "        self.pred_data = self.predict_tensors(self.pred_df)\n",
    "        return self.pred_data\n",
    "class model(pl.LightningModule):\n",
    "\n",
    "    def __init__(self,lookback_size=5):\n",
    "\n",
    "        super(model,self).__init__()\n",
    "\n",
    "        self.lookback_size = lookback_size\n",
    "        self.lstm=torch.nn.LSTM(batch_first=True, input_size=1, hidden_size=self.lookback_size)\n",
    "        self.out=torch.nn.Linear(5,1)\n",
    "        self.loss=torch.nn.functional.mse_loss\n",
    "\n",
    "    def forward(self, x, hidden=None):\n",
    "        x, hidden = self.lstm(x)\n",
    "        x = x[:,-1]\n",
    "        x = self.out(x)\n",
    "        return x, hidden\n",
    "\n",
    "    def predict_step(self,batch, batch_idx, dataloader_idx=0):\n",
    "        return self(batch.type(torch.float32))"
   ]
  },
  {
   "cell_type": "code",
   "execution_count": 2,
   "metadata": {},
   "outputs": [],
   "source": [
    "modelpath='./outputs/model.pth'\n",
    "with open('./outputs/scaler.pkl','rb') as f:\n",
    "    scaler=pickle.load(f)"
   ]
  },
  {
   "cell_type": "code",
   "execution_count": 3,
   "metadata": {},
   "outputs": [],
   "source": [
    "mod = model()\n",
    "mod.load_state_dict(torch.load(modelpath))\n",
    "mod.eval()\n",
    "\n",
    "datamod = dataset(scaler)"
   ]
  },
  {
   "cell_type": "code",
   "execution_count": 4,
   "metadata": {},
   "outputs": [],
   "source": [
    "with open('inputs.json','r') as f:\n",
    "    data = json.load(f)\n",
    "data = np.array(list(data.values())).astype(float)\n",
    "pred_data=datamod.predict_dataloader(data=pd.DataFrame(data, columns=['Close']))\n",
    "\n",
    "result, _ = mod(pred_data)"
   ]
  },
  {
   "cell_type": "code",
   "execution_count": 5,
   "metadata": {},
   "outputs": [
    {
     "data": {
      "text/plain": [
       "array([[254.16676]], dtype=float32)"
      ]
     },
     "execution_count": 5,
     "metadata": {},
     "output_type": "execute_result"
    }
   ],
   "source": [
    "scaler.inverse_transform(result.detach().numpy())"
   ]
  },
  {
   "cell_type": "code",
   "execution_count": null,
   "metadata": {},
   "outputs": [],
   "source": []
  }
 ],
 "metadata": {
  "kernelspec": {
   "display_name": "azureML",
   "language": "python",
   "name": "python3"
  },
  "language_info": {
   "codemirror_mode": {
    "name": "ipython",
    "version": 3
   },
   "file_extension": ".py",
   "mimetype": "text/x-python",
   "name": "python",
   "nbconvert_exporter": "python",
   "pygments_lexer": "ipython3",
   "version": "3.11.0"
  },
  "orig_nbformat": 4,
  "vscode": {
   "interpreter": {
    "hash": "495794734634ed83a223a0ff466dd16659bfe4b87c179f1ac740ad96b06e37ac"
   }
  }
 },
 "nbformat": 4,
 "nbformat_minor": 2
}
