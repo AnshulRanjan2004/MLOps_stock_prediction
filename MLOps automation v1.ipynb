{
 "cells": [
  {
   "attachments": {},
   "cell_type": "markdown",
   "metadata": {},
   "source": [
    "TODO overall\n",
    "\n",
    "1. Root directory management in modules\n",
    "2. Try catch and pytest"
   ]
  },
  {
   "cell_type": "code",
   "execution_count": 1,
   "metadata": {},
   "outputs": [],
   "source": [
    "import json\n",
    "import numpy as np\n",
    "from datetime import datetime\n",
    "from azure.ai.ml import MLClient\n",
    "from azure.ai.ml.entities import Model\n",
    "\n",
    "# ML Client\n",
    "from azure.identity import DefaultAzureCredential, InteractiveBrowserCredential"
   ]
  },
  {
   "cell_type": "code",
   "execution_count": 2,
   "metadata": {},
   "outputs": [],
   "source": [
    "# Training utils\n",
    "from utils.training_utils import (\n",
    "    fetch_env, \n",
    "    fetch_compute_cluster, \n",
    "    delete_compute_cluster, \n",
    "    upload_file_to_datastore\n",
    "    )"
   ]
  },
  {
   "cell_type": "code",
   "execution_count": 3,
   "metadata": {},
   "outputs": [],
   "source": [
    "with open('./config/config.json','r') as f:\n",
    "    configs=json.loads(f.read())\n",
    "\n",
    "subscription_id, resource_group, workspace = configs['subscription_id'], configs['resource_group'], configs['workspace_name']\n",
    "\n",
    "try:\n",
    "    credential = DefaultAzureCredential()\n",
    "    # Check if given credential can get token successfully.\n",
    "    credential.get_token(\"https://management.azure.com/.default\")\n",
    "except Exception as ex:\n",
    "    # Fall back to InteractiveBrowserCredential in case DefaultAzureCredential not work\n",
    "    credential = InteractiveBrowserCredential()\n",
    "\n",
    "ml_client = MLClient(\n",
    "    credential, subscription_id, resource_group, workspace\n",
    ")"
   ]
  },
  {
   "cell_type": "markdown",
   "metadata": {},
   "source": [
    "# Resource management"
   ]
  },
  {
   "attachments": {},
   "cell_type": "markdown",
   "metadata": {},
   "source": [
    "## Fetch/create environments"
   ]
  },
  {
   "cell_type": "code",
   "execution_count": 8,
   "metadata": {},
   "outputs": [],
   "source": [
    "training_env = fetch_env(ml_client=ml_client,\n",
    "env_name=\"stock-pricing\",\n",
    "version=\"0.1\")\n",
    "# conda_file_path=\"./config/training_env.yml\")"
   ]
  },
  {
   "cell_type": "code",
   "execution_count": 8,
   "metadata": {},
   "outputs": [],
   "source": [
    "deployment_env = fetch_env(\n",
    "    ml_client=ml_client,\n",
    "    env_name=\"stock-pricing\",\n",
    "    version=\"0.2\",\n",
    "    # conda_file_path=\"./config/deployment_env.yml\"\n",
    ")"
   ]
  },
  {
   "cell_type": "code",
   "execution_count": 9,
   "metadata": {},
   "outputs": [
    {
     "data": {
      "text/plain": [
       "'stock-pricing:0.1'"
      ]
     },
     "execution_count": 9,
     "metadata": {},
     "output_type": "execute_result"
    }
   ],
   "source": [
    "f\"{training_env.name}:{training_env.version}\""
   ]
  },
  {
   "cell_type": "code",
   "execution_count": 9,
   "metadata": {},
   "outputs": [
    {
     "data": {
      "text/plain": [
       "'stock-pricing:0.2'"
      ]
     },
     "execution_count": 9,
     "metadata": {},
     "output_type": "execute_result"
    }
   ],
   "source": [
    "f\"{deployment_env.name}:{deployment_env.version}\""
   ]
  },
  {
   "attachments": {},
   "cell_type": "markdown",
   "metadata": {},
   "source": [
    "## Compute cluster management for training"
   ]
  },
  {
   "cell_type": "code",
   "execution_count": 10,
   "metadata": {},
   "outputs": [
    {
     "name": "stdout",
     "output_type": "stream",
     "text": [
      "Creating a new cpu compute target...\n"
     ]
    }
   ],
   "source": [
    "training_compute = fetch_compute_cluster(ml_client, target_name=\"training-computer2\")"
   ]
  },
  {
   "cell_type": "code",
   "execution_count": null,
   "metadata": {},
   "outputs": [],
   "source": [
    "delete_compute_cluster(ml_client=ml_client, target_name=compute.name)"
   ]
  },
  {
   "attachments": {},
   "cell_type": "markdown",
   "metadata": {},
   "source": [
    "# Data management - TODO\n",
    "\n",
    "TODO\n",
    "1. Scheduled data download using API\n",
    "2. Scheduled data upload to Azure datastore\n",
    "3. Tie these two actions together and deleting local files\n",
    "\n",
    "4. Also think how it can be done basis triggers"
   ]
  },
  {
   "attachments": {},
   "cell_type": "markdown",
   "metadata": {},
   "source": [
    "## Schedule automatic data download using API"
   ]
  },
  {
   "attachments": {},
   "cell_type": "markdown",
   "metadata": {},
   "source": [
    "## Uploading from local file"
   ]
  },
  {
   "cell_type": "code",
   "execution_count": 6,
   "metadata": {},
   "outputs": [],
   "source": [
    "upload_file_to_datastore(\n",
    "    ml_client=ml_client,\n",
    "    file_path=\"./data/ril.csv\",\n",
    "    name=\"ril\",\n",
    "    version=\"3\",\n",
    "    tags={\"vers\":32})"
   ]
  },
  {
   "attachments": {},
   "cell_type": "markdown",
   "metadata": {},
   "source": [
    "# Triggering training pipeline - TODO"
   ]
  },
  {
   "attachments": {},
   "cell_type": "markdown",
   "metadata": {},
   "source": [
    "## Trigger training every week - Set up scheduler\n",
    "\n",
    "1. Scheduled training TBD\n",
    "2. Also think of how to trigger jobs"
   ]
  },
  {
   "cell_type": "code",
   "execution_count": 12,
   "metadata": {},
   "outputs": [],
   "source": [
    "# Create a function to get latest data of a ticker\n",
    "\n",
    "training_data = ml_client.data.get(name=\"ril\", version=3)"
   ]
  },
  {
   "cell_type": "code",
   "execution_count": 13,
   "metadata": {},
   "outputs": [
    {
     "name": "stderr",
     "output_type": "stream",
     "text": [
      "Warning: the provided asset name 'stock-pricing' will not be used for anonymous registration\n",
      "Warning: the provided asset name 'stock-pricing' will not be used for anonymous registration\n",
      "\u001b[32mUploading src (0.02 MBs): 100%|██████████| 16604/16604 [00:02<00:00, 8077.99it/s] \n",
      "\u001b[39m\n",
      "\n"
     ]
    }
   ],
   "source": [
    "from src.training_script import trigger_train\n",
    "\n",
    "job_name = \"test1\"\n",
    "\n",
    "trigger_train(\n",
    "    ml_client=ml_client,\n",
    "    job_name=job_name,\n",
    "    data_asset_uri=training_data.path,\n",
    "    environment=training_env,\n",
    "    compute=training_compute\n",
    ")"
   ]
  },
  {
   "cell_type": "markdown",
   "metadata": {},
   "source": [
    "## Register the model"
   ]
  },
  {
   "cell_type": "code",
   "execution_count": 17,
   "metadata": {},
   "outputs": [
    {
     "data": {
      "text/plain": [
       "Model({'job_name': 'test1', 'is_anonymous': False, 'auto_increment_version': False, 'name': 'mlopsv1', 'description': 'Model created from test run.', 'tags': {}, 'properties': {}, 'id': '/subscriptions/5d2e45e0-cd7b-4338-b279-455fa4a4c42d/resourceGroups/RG/providers/Microsoft.MachineLearningServices/workspaces/AzureMLWorkspace/models/mlopsv1/versions/1', 'Resource__source_path': None, 'base_path': '/Users/anupam/Documents/Codebase/MLOps_stock_prediction', 'creation_context': <azure.ai.ml.entities._system_data.SystemData object at 0x1546f5a90>, 'serialize': <msrest.serialization.Serializer object at 0x1546f5d50>, 'version': '1', 'latest_version': None, 'path': 'azureml://subscriptions/5d2e45e0-cd7b-4338-b279-455fa4a4c42d/resourceGroups/RG/workspaces/AzureMLWorkspace/datastores/workspaceartifactstore/paths/ExperimentRun/dcid.test1/outputs', 'datastore': None, 'utc_time_created': None, 'flavors': None, 'arm_type': 'model_version', 'type': 'custom_model'})"
      ]
     },
     "execution_count": 17,
     "metadata": {},
     "output_type": "execute_result"
    }
   ],
   "source": [
    "job_name = \"test1\"\n",
    "registered_model_name = \"mlopsv1\"\n",
    "\n",
    "model = Model(\n",
    "        path=f\"azureml://jobs/{job_name}/outputs/artifacts/paths/outputs/\",\n",
    "        name=registered_model_name,\n",
    "        description=\"Model created from test run.\",\n",
    "        type=\"custom_model\",\n",
    "    )\n",
    "ml_client.models.create_or_update(model)"
   ]
  },
  {
   "cell_type": "code",
   "execution_count": 14,
   "metadata": {},
   "outputs": [
    {
     "ename": "NameError",
     "evalue": "name 'training_compute' is not defined",
     "output_type": "error",
     "traceback": [
      "\u001b[0;31m---------------------------------------------------------------------------\u001b[0m",
      "\u001b[0;31mNameError\u001b[0m                                 Traceback (most recent call last)",
      "Cell \u001b[0;32mIn[14], line 1\u001b[0m\n\u001b[0;32m----> 1\u001b[0m ml_client\u001b[39m.\u001b[39mcompute\u001b[39m.\u001b[39mbegin_delete(name\u001b[39m=\u001b[39mtraining_compute\u001b[39m.\u001b[39mname)\u001b[39m.\u001b[39mwait()\n",
      "\u001b[0;31mNameError\u001b[0m: name 'training_compute' is not defined"
     ]
    }
   ],
   "source": [
    "ml_client.compute.begin_delete(name=training_compute.name).wait()"
   ]
  },
  {
   "attachments": {},
   "cell_type": "markdown",
   "metadata": {},
   "source": [
    "# Deploy the model - TODO\n",
    "\n",
    "TODO\n",
    "1. Find the latest version of model\n",
    "2. Traffic management"
   ]
  },
  {
   "cell_type": "code",
   "execution_count": 10,
   "metadata": {},
   "outputs": [],
   "source": [
    "from src.deployment_script import trigger_deployment"
   ]
  },
  {
   "cell_type": "code",
   "execution_count": 17,
   "metadata": {},
   "outputs": [
    {
     "ename": "AttributeError",
     "evalue": "'dict' object has no attribute 'name'",
     "output_type": "error",
     "traceback": [
      "\u001b[0;31m---------------------------------------------------------------------------\u001b[0m",
      "\u001b[0;31mAttributeError\u001b[0m                            Traceback (most recent call last)",
      "Cell \u001b[0;32mIn[17], line 3\u001b[0m\n\u001b[1;32m      1\u001b[0m endpoint_name\u001b[39m=\u001b[39m\u001b[39m\"\u001b[39m\u001b[39mMLOpsv1\u001b[39m\u001b[39m\"\u001b[39m\n\u001b[0;32m----> 3\u001b[0m trigger_deployment(\n\u001b[1;32m      4\u001b[0m ml_client,\n\u001b[1;32m      5\u001b[0m endpoint_name\u001b[39m=\u001b[39;49mendpoint_name,\n\u001b[1;32m      6\u001b[0m model\u001b[39m=\u001b[39;49mml_client\u001b[39m.\u001b[39;49mmodels\u001b[39m.\u001b[39;49mget(name\u001b[39m=\u001b[39;49m\u001b[39m\"\u001b[39;49m\u001b[39mmlopsv1\u001b[39;49m\u001b[39m\"\u001b[39;49m, version\u001b[39m=\u001b[39;49m\u001b[39m1\u001b[39;49m),\n\u001b[1;32m      7\u001b[0m env \u001b[39m=\u001b[39;49m deployment_env,\n\u001b[1;32m      8\u001b[0m deployment_details \u001b[39m=\u001b[39;49m {\u001b[39m\"\u001b[39;49m\u001b[39mname\u001b[39;49m\u001b[39m\"\u001b[39;49m:\u001b[39m\"\u001b[39;49m\u001b[39malpha\u001b[39;49m\u001b[39m\"\u001b[39;49m,\u001b[39m\"\u001b[39;49m\u001b[39mtraffic\u001b[39;49m\u001b[39m\"\u001b[39;49m:\u001b[39m100\u001b[39;49m},\n\u001b[1;32m      9\u001b[0m )\n",
      "File \u001b[0;32m~/Documents/Codebase/MLOps_stock_prediction/src/deployment_script.py:30\u001b[0m, in \u001b[0;36mtrigger_deployment\u001b[0;34m(ml_client, endpoint_name, model, env, deployment_details, endpoint_type)\u001b[0m\n\u001b[1;32m     24\u001b[0m code_config \u001b[39m=\u001b[39m CodeConfiguration(\n\u001b[1;32m     25\u001b[0m         code\u001b[39m=\u001b[39m\u001b[39m'\u001b[39m\u001b[39m./src/\u001b[39m\u001b[39m'\u001b[39m, scoring_script\u001b[39m=\u001b[39m\u001b[39m\"\u001b[39m\u001b[39mdeployment.py\u001b[39m\u001b[39m\"\u001b[39m\n\u001b[1;32m     26\u001b[0m     )\n\u001b[1;32m     28\u001b[0m \u001b[39m# Create deployment\u001b[39;00m\n\u001b[1;32m     29\u001b[0m deployment \u001b[39m=\u001b[39m ManagedOnlineDeployment(\n\u001b[0;32m---> 30\u001b[0m     name\u001b[39m=\u001b[39mdeployment_details\u001b[39m.\u001b[39;49mname,\n\u001b[1;32m     31\u001b[0m     endpoint_name\u001b[39m=\u001b[39mendpoint_name,\n\u001b[1;32m     32\u001b[0m     model\u001b[39m=\u001b[39mmodel,\n\u001b[1;32m     33\u001b[0m     environment\u001b[39m=\u001b[39menv,\n\u001b[1;32m     34\u001b[0m     code_configuration\u001b[39m=\u001b[39mcode_config,\n\u001b[1;32m     35\u001b[0m     instance_type\u001b[39m=\u001b[39m\u001b[39m\"\u001b[39m\u001b[39mStandard_DS2_v2\u001b[39m\u001b[39m\"\u001b[39m,\n\u001b[1;32m     36\u001b[0m     instance_count\u001b[39m=\u001b[39m\u001b[39m1\u001b[39m,\n\u001b[1;32m     37\u001b[0m )\n\u001b[1;32m     38\u001b[0m \u001b[39m# create the deployment:\u001b[39;00m\n\u001b[1;32m     39\u001b[0m ml_client\u001b[39m.\u001b[39mbegin_create_or_update(deployment)\n",
      "\u001b[0;31mAttributeError\u001b[0m: 'dict' object has no attribute 'name'"
     ]
    }
   ],
   "source": [
    "endpoint_name=\"MLOpsv1\"\n",
    "\n",
    "trigger_deployment(\n",
    "ml_client,\n",
    "endpoint_name=endpoint_name,\n",
    "model=ml_client.models.get(name=\"mlopsv1\", version=1),\n",
    "env = deployment_env,\n",
    "deployment_details = {\"name\":\"alpha\",\"traffic\":100},\n",
    ")"
   ]
  },
  {
   "cell_type": "code",
   "execution_count": 18,
   "metadata": {},
   "outputs": [
    {
     "data": {
      "text/plain": [
       "'alpha'"
      ]
     },
     "execution_count": 18,
     "metadata": {},
     "output_type": "execute_result"
    }
   ],
   "source": [
    "deployment_details = {\"name\":\"alpha\",\"traffic\":100}\n",
    "deployment_details[\"name\"]"
   ]
  },
  {
   "cell_type": "markdown",
   "metadata": {},
   "source": [
    "# Testing the endpoint"
   ]
  },
  {
   "cell_type": "code",
   "execution_count": null,
   "metadata": {},
   "outputs": [],
   "source": [
    "%%writefile inputs.json\n",
    "{\"d1\":2663,\"d2\":2654.4,\"d3\":2698,\"d4\":2690,\"d5\":2698.12}"
   ]
  },
  {
   "cell_type": "code",
   "execution_count": null,
   "metadata": {},
   "outputs": [],
   "source": [
    "endpoint_name=\"MLOpsv1\"\n",
    "\n",
    "# test the endpoint (the request will route to blue deployment as set above)\n",
    "ml_client.online_endpoints.invoke(\n",
    "    endpoint_name=endpoint_name,\n",
    "    deployment_name=\"yellow\",\n",
    "    request_file=\"inputs.json\",\n",
    ")"
   ]
  }
 ],
 "metadata": {
  "kernelspec": {
   "display_name": "azureML",
   "language": "python",
   "name": "python3"
  },
  "language_info": {
   "codemirror_mode": {
    "name": "ipython",
    "version": 3
   },
   "file_extension": ".py",
   "mimetype": "text/x-python",
   "name": "python",
   "nbconvert_exporter": "python",
   "pygments_lexer": "ipython3",
   "version": "3.11.0"
  },
  "orig_nbformat": 4,
  "vscode": {
   "interpreter": {
    "hash": "495794734634ed83a223a0ff466dd16659bfe4b87c179f1ac740ad96b06e37ac"
   }
  }
 },
 "nbformat": 4,
 "nbformat_minor": 2
}
