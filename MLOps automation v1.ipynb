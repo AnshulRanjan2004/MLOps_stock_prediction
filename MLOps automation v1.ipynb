{
 "cells": [
  {
   "attachments": {},
   "cell_type": "markdown",
   "metadata": {},
   "source": [
    "TODO overall\n",
    "\n",
    "1. Root directory management in modules\n",
    "2. Try catch and pytest"
   ]
  },
  {
   "cell_type": "code",
   "execution_count": 1,
   "metadata": {},
   "outputs": [],
   "source": [
    "import json\n",
    "import numpy as np\n",
    "from datetime import datetime\n",
    "from azure.ai.ml import MLClient\n",
    "from azure.ai.ml.entities import Model\n",
    "\n",
    "# ML Client\n",
    "from azure.identity import DefaultAzureCredential, InteractiveBrowserCredential"
   ]
  },
  {
   "cell_type": "code",
   "execution_count": 2,
   "metadata": {},
   "outputs": [],
   "source": [
    "# Training utils\n",
    "from utils.training_utils import (\n",
    "    fetch_env, \n",
    "    fetch_compute_cluster, \n",
    "    delete_compute_cluster, \n",
    "    upload_file_to_datastore\n",
    "    )"
   ]
  },
  {
   "cell_type": "code",
   "execution_count": 3,
   "metadata": {},
   "outputs": [],
   "source": [
    "with open('./config/config.json','r') as f:\n",
    "    configs=json.loads(f.read())\n",
    "\n",
    "subscription_id, resource_group, workspace = configs['subscription_id'], configs['resource_group'], configs['workspace_name']\n",
    "\n",
    "try:\n",
    "    credential = DefaultAzureCredential()\n",
    "    # Check if given credential can get token successfully.\n",
    "    credential.get_token(\"https://management.azure.com/.default\")\n",
    "except Exception as ex:\n",
    "    # Fall back to InteractiveBrowserCredential in case DefaultAzureCredential not work\n",
    "    credential = InteractiveBrowserCredential()\n",
    "\n",
    "ml_client = MLClient(\n",
    "    credential, subscription_id, resource_group, workspace\n",
    ")"
   ]
  },
  {
   "cell_type": "markdown",
   "metadata": {},
   "source": [
    "# Resource management"
   ]
  },
  {
   "attachments": {},
   "cell_type": "markdown",
   "metadata": {},
   "source": [
    "## Fetch/create environments"
   ]
  },
  {
   "cell_type": "code",
   "execution_count": 8,
   "metadata": {},
   "outputs": [],
   "source": [
    "training_env = fetch_env(ml_client=ml_client,\n",
    "env_name=\"stock-pricing\",\n",
    "version=\"0.1\")\n",
    "# conda_file_path=\"./config/training_env.yml\")"
   ]
  },
  {
   "cell_type": "code",
   "execution_count": 4,
   "metadata": {},
   "outputs": [],
   "source": [
    "deployment_env = fetch_env(\n",
    "    ml_client=ml_client,\n",
    "    env_name=\"stock-pricing\",\n",
    "    version=\"0.2\",\n",
    "    # conda_file_path=\"./config/deployment_env.yml\"\n",
    ")"
   ]
  },
  {
   "cell_type": "code",
   "execution_count": 9,
   "metadata": {},
   "outputs": [
    {
     "data": {
      "text/plain": [
       "'stock-pricing:0.1'"
      ]
     },
     "execution_count": 9,
     "metadata": {},
     "output_type": "execute_result"
    }
   ],
   "source": [
    "f\"{training_env.name}:{training_env.version}\""
   ]
  },
  {
   "cell_type": "code",
   "execution_count": 9,
   "metadata": {},
   "outputs": [
    {
     "data": {
      "text/plain": [
       "'stock-pricing:0.2'"
      ]
     },
     "execution_count": 9,
     "metadata": {},
     "output_type": "execute_result"
    }
   ],
   "source": [
    "f\"{deployment_env.name}:{deployment_env.version}\""
   ]
  },
  {
   "attachments": {},
   "cell_type": "markdown",
   "metadata": {},
   "source": [
    "## Compute cluster management for training"
   ]
  },
  {
   "cell_type": "code",
   "execution_count": 10,
   "metadata": {},
   "outputs": [
    {
     "name": "stdout",
     "output_type": "stream",
     "text": [
      "Creating a new cpu compute target...\n"
     ]
    }
   ],
   "source": [
    "training_compute = fetch_compute_cluster(ml_client, target_name=\"training-computer2\")"
   ]
  },
  {
   "cell_type": "code",
   "execution_count": null,
   "metadata": {},
   "outputs": [],
   "source": [
    "delete_compute_cluster(ml_client=ml_client, target_name=compute.name)"
   ]
  },
  {
   "attachments": {},
   "cell_type": "markdown",
   "metadata": {},
   "source": [
    "# Data management - TODO\n",
    "\n",
    "TODO\n",
    "1. Scheduled data download using API\n",
    "2. Scheduled data upload to Azure datastore\n",
    "3. Tie these two actions together and deleting local files\n",
    "\n",
    "4. Also think how it can be done basis triggers"
   ]
  },
  {
   "attachments": {},
   "cell_type": "markdown",
   "metadata": {},
   "source": [
    "## Schedule automatic data download using API"
   ]
  },
  {
   "attachments": {},
   "cell_type": "markdown",
   "metadata": {},
   "source": [
    "## Uploading from local file"
   ]
  },
  {
   "cell_type": "code",
   "execution_count": 6,
   "metadata": {},
   "outputs": [],
   "source": [
    "upload_file_to_datastore(\n",
    "    ml_client=ml_client,\n",
    "    file_path=\"./data/ril.csv\",\n",
    "    name=\"ril\",\n",
    "    version=\"3\",\n",
    "    tags={\"vers\":32})"
   ]
  },
  {
   "attachments": {},
   "cell_type": "markdown",
   "metadata": {},
   "source": [
    "# Triggering training pipeline - TODO"
   ]
  },
  {
   "attachments": {},
   "cell_type": "markdown",
   "metadata": {},
   "source": [
    "## Trigger training every week - Set up scheduler\n",
    "\n",
    "1. Scheduled training TBD\n",
    "2. Also think of how to trigger jobs"
   ]
  },
  {
   "cell_type": "code",
   "execution_count": 12,
   "metadata": {},
   "outputs": [],
   "source": [
    "# Create a function to get latest data of a ticker\n",
    "\n",
    "training_data = ml_client.data.get(name=\"ril\", version=3)"
   ]
  },
  {
   "cell_type": "code",
   "execution_count": 13,
   "metadata": {},
   "outputs": [
    {
     "name": "stderr",
     "output_type": "stream",
     "text": [
      "Warning: the provided asset name 'stock-pricing' will not be used for anonymous registration\n",
      "Warning: the provided asset name 'stock-pricing' will not be used for anonymous registration\n",
      "\u001b[32mUploading src (0.02 MBs): 100%|██████████| 16604/16604 [00:02<00:00, 8077.99it/s] \n",
      "\u001b[39m\n",
      "\n"
     ]
    }
   ],
   "source": [
    "from src.training_script import trigger_train\n",
    "\n",
    "job_name = \"test1\"\n",
    "\n",
    "trigger_train(\n",
    "    ml_client=ml_client,\n",
    "    job_name=job_name,\n",
    "    data_asset_uri=training_data.path,\n",
    "    environment=training_env,\n",
    "    compute=training_compute\n",
    ")"
   ]
  },
  {
   "cell_type": "markdown",
   "metadata": {},
   "source": [
    "## Register the model"
   ]
  },
  {
   "cell_type": "code",
   "execution_count": 17,
   "metadata": {},
   "outputs": [
    {
     "data": {
      "text/plain": [
       "Model({'job_name': 'test1', 'is_anonymous': False, 'auto_increment_version': False, 'name': 'mlopsv1', 'description': 'Model created from test run.', 'tags': {}, 'properties': {}, 'id': '/subscriptions/5d2e45e0-cd7b-4338-b279-455fa4a4c42d/resourceGroups/RG/providers/Microsoft.MachineLearningServices/workspaces/AzureMLWorkspace/models/mlopsv1/versions/1', 'Resource__source_path': None, 'base_path': '/Users/anupam/Documents/Codebase/MLOps_stock_prediction', 'creation_context': <azure.ai.ml.entities._system_data.SystemData object at 0x1546f5a90>, 'serialize': <msrest.serialization.Serializer object at 0x1546f5d50>, 'version': '1', 'latest_version': None, 'path': 'azureml://subscriptions/5d2e45e0-cd7b-4338-b279-455fa4a4c42d/resourceGroups/RG/workspaces/AzureMLWorkspace/datastores/workspaceartifactstore/paths/ExperimentRun/dcid.test1/outputs', 'datastore': None, 'utc_time_created': None, 'flavors': None, 'arm_type': 'model_version', 'type': 'custom_model'})"
      ]
     },
     "execution_count": 17,
     "metadata": {},
     "output_type": "execute_result"
    }
   ],
   "source": [
    "job_name = \"test1\"\n",
    "registered_model_name = \"mlopsv1\"\n",
    "\n",
    "model = Model(\n",
    "        path=f\"azureml://jobs/{job_name}/outputs/artifacts/paths/outputs/\",\n",
    "        name=registered_model_name,\n",
    "        description=\"Model created from test run.\",\n",
    "        type=\"custom_model\",\n",
    "    )\n",
    "ml_client.models.create_or_update(model)"
   ]
  },
  {
   "cell_type": "code",
   "execution_count": 14,
   "metadata": {},
   "outputs": [
    {
     "ename": "NameError",
     "evalue": "name 'training_compute' is not defined",
     "output_type": "error",
     "traceback": [
      "\u001b[0;31m---------------------------------------------------------------------------\u001b[0m",
      "\u001b[0;31mNameError\u001b[0m                                 Traceback (most recent call last)",
      "Cell \u001b[0;32mIn[14], line 1\u001b[0m\n\u001b[0;32m----> 1\u001b[0m ml_client\u001b[39m.\u001b[39mcompute\u001b[39m.\u001b[39mbegin_delete(name\u001b[39m=\u001b[39mtraining_compute\u001b[39m.\u001b[39mname)\u001b[39m.\u001b[39mwait()\n",
      "\u001b[0;31mNameError\u001b[0m: name 'training_compute' is not defined"
     ]
    }
   ],
   "source": [
    "ml_client.compute.begin_delete(name=training_compute.name).wait()"
   ]
  },
  {
   "attachments": {},
   "cell_type": "markdown",
   "metadata": {},
   "source": [
    "# Deploy the model - TODO\n",
    "\n",
    "TODO\n",
    "1. Find the latest version of model\n",
    "2. Traffic management"
   ]
  },
  {
   "cell_type": "code",
   "execution_count": 6,
   "metadata": {},
   "outputs": [],
   "source": [
    "from src.deployment_script import trigger_deployment"
   ]
  },
  {
   "cell_type": "code",
   "execution_count": 10,
   "metadata": {},
   "outputs": [
    {
     "name": "stderr",
     "output_type": "stream",
     "text": [
      "Check: endpoint MLOps exists\n"
     ]
    },
    {
     "name": "stdout",
     "output_type": "stream",
     "text": [
      "."
     ]
    },
    {
     "ename": "HttpResponseError",
     "evalue": "(BadRequest) The request is invalid.\nCode: BadRequest\nMessage: The request is invalid.\nException Details:\t(InferencingClientCallFailed) {{\"errors\":{{\"DeploymentWeights\":[\"Deployments given positive traffic values should be either in a successful or failed state. Unmatched deployments: [alpha]\"]}},\"title\":\"One or more validation errors occurred.\"}}\n\tCode: InferencingClientCallFailed\n\tMessage: {{\"errors\":{{\"DeploymentWeights\":[\"Deployments given positive traffic values should be either in a successful or failed state. Unmatched deployments: [alpha]\"]}},\"title\":\"One or more validation errors occurred.\"}}\nAdditional Information:Type: ComponentName\nInfo: {\n    \"value\": \"managementfrontend\"\n}Type: Correlation\nInfo: {\n    \"value\": {\n        \"operation\": \"24e9d480f6b060b0792c598605257bde\",\n        \"request\": \"a7380859f1bbef8b\"\n    }\n}Type: Environment\nInfo: {\n    \"value\": \"eastus\"\n}Type: Location\nInfo: {\n    \"value\": \"eastus\"\n}Type: Time\nInfo: {\n    \"value\": \"2023-01-26T07:12:19.4392044+00:00\"\n}",
     "output_type": "error",
     "traceback": [
      "\u001b[0;31m---------------------------------------------------------------------------\u001b[0m",
      "\u001b[0;31mHttpResponseError\u001b[0m                         Traceback (most recent call last)",
      "Cell \u001b[0;32mIn[10], line 3\u001b[0m\n\u001b[1;32m      1\u001b[0m endpoint_name\u001b[39m=\u001b[39m\u001b[39m\"\u001b[39m\u001b[39mMLOps\u001b[39m\u001b[39m\"\u001b[39m\n\u001b[0;32m----> 3\u001b[0m trigger_deployment(\n\u001b[1;32m      4\u001b[0m ml_client,\n\u001b[1;32m      5\u001b[0m endpoint_name\u001b[39m=\u001b[39;49mendpoint_name,\n\u001b[1;32m      6\u001b[0m model\u001b[39m=\u001b[39;49mml_client\u001b[39m.\u001b[39;49mmodels\u001b[39m.\u001b[39;49mget(name\u001b[39m=\u001b[39;49m\u001b[39m\"\u001b[39;49m\u001b[39mmlopsv1\u001b[39;49m\u001b[39m\"\u001b[39;49m, version\u001b[39m=\u001b[39;49m\u001b[39m1\u001b[39;49m),\n\u001b[1;32m      7\u001b[0m env \u001b[39m=\u001b[39;49m deployment_env,\n\u001b[1;32m      8\u001b[0m deployment_details \u001b[39m=\u001b[39;49m {\u001b[39m\"\u001b[39;49m\u001b[39mname\u001b[39;49m\u001b[39m\"\u001b[39;49m:\u001b[39m\"\u001b[39;49m\u001b[39malpha\u001b[39;49m\u001b[39m\"\u001b[39;49m,\u001b[39m\"\u001b[39;49m\u001b[39mtraffic\u001b[39;49m\u001b[39m\"\u001b[39;49m:\u001b[39m100\u001b[39;49m},\n\u001b[1;32m      9\u001b[0m )\n",
      "File \u001b[0;32m~/Documents/Codebase/MLOps_stock_prediction/src/deployment_script.py:42\u001b[0m, in \u001b[0;36mtrigger_deployment\u001b[0;34m(ml_client, endpoint_name, model, env, deployment_details, endpoint_type)\u001b[0m\n\u001b[1;32m     40\u001b[0m \u001b[39m# blue deployment takes 100 traffic\u001b[39;00m\n\u001b[1;32m     41\u001b[0m endpoint\u001b[39m.\u001b[39mtraffic \u001b[39m=\u001b[39m {deployment_details[\u001b[39m\"\u001b[39m\u001b[39mname\u001b[39m\u001b[39m\"\u001b[39m]: deployment_details[\u001b[39m\"\u001b[39m\u001b[39mtraffic\u001b[39m\u001b[39m\"\u001b[39m]}\n\u001b[0;32m---> 42\u001b[0m ml_client\u001b[39m.\u001b[39;49mbegin_create_or_update(endpoint)\n",
      "File \u001b[0;32m/opt/homebrew/Caskroom/miniforge/base/envs/azureML/lib/python3.11/site-packages/azure/ai/ml/_ml_client.py:841\u001b[0m, in \u001b[0;36mMLClient.begin_create_or_update\u001b[0;34m(self, entity, **kwargs)\u001b[0m\n\u001b[1;32m    814\u001b[0m \u001b[39mdef\u001b[39;00m \u001b[39mbegin_create_or_update\u001b[39m(\n\u001b[1;32m    815\u001b[0m     \u001b[39mself\u001b[39m,\n\u001b[1;32m    816\u001b[0m     entity: R,\n\u001b[1;32m    817\u001b[0m     \u001b[39m*\u001b[39m\u001b[39m*\u001b[39mkwargs,\n\u001b[1;32m    818\u001b[0m ) \u001b[39m-\u001b[39m\u001b[39m>\u001b[39m LROPoller[R]:\n\u001b[1;32m    819\u001b[0m \u001b[39m    \u001b[39m\u001b[39m\"\"\"Creates or updates an Azure ML resource asynchronously.\u001b[39;00m\n\u001b[1;32m    820\u001b[0m \n\u001b[1;32m    821\u001b[0m \u001b[39m    :param entity: The resource to create or update.\u001b[39;00m\n\u001b[0;32m   (...)\u001b[0m\n\u001b[1;32m    838\u001b[0m \u001b[39m        azure.ai.ml.entities.JobSchedule]]\u001b[39;00m\n\u001b[1;32m    839\u001b[0m \u001b[39m    \"\"\"\u001b[39;00m\n\u001b[0;32m--> 841\u001b[0m     \u001b[39mreturn\u001b[39;00m _begin_create_or_update(entity, \u001b[39mself\u001b[39;49m\u001b[39m.\u001b[39;49m_operation_container\u001b[39m.\u001b[39;49mall_operations, \u001b[39m*\u001b[39;49m\u001b[39m*\u001b[39;49mkwargs)\n",
      "File \u001b[0;32m/opt/homebrew/Caskroom/miniforge/base/envs/azureML/lib/python3.11/functools.py:909\u001b[0m, in \u001b[0;36msingledispatch.<locals>.wrapper\u001b[0;34m(*args, **kw)\u001b[0m\n\u001b[1;32m    905\u001b[0m \u001b[39mif\u001b[39;00m \u001b[39mnot\u001b[39;00m args:\n\u001b[1;32m    906\u001b[0m     \u001b[39mraise\u001b[39;00m \u001b[39mTypeError\u001b[39;00m(\u001b[39mf\u001b[39m\u001b[39m'\u001b[39m\u001b[39m{\u001b[39;00mfuncname\u001b[39m}\u001b[39;00m\u001b[39m requires at least \u001b[39m\u001b[39m'\u001b[39m\n\u001b[1;32m    907\u001b[0m                     \u001b[39m'\u001b[39m\u001b[39m1 positional argument\u001b[39m\u001b[39m'\u001b[39m)\n\u001b[0;32m--> 909\u001b[0m \u001b[39mreturn\u001b[39;00m dispatch(args[\u001b[39m0\u001b[39;49m]\u001b[39m.\u001b[39;49m\u001b[39m__class__\u001b[39;49m)(\u001b[39m*\u001b[39;49margs, \u001b[39m*\u001b[39;49m\u001b[39m*\u001b[39;49mkw)\n",
      "File \u001b[0;32m/opt/homebrew/Caskroom/miniforge/base/envs/azureML/lib/python3.11/site-packages/azure/ai/ml/_ml_client.py:923\u001b[0m, in \u001b[0;36m_\u001b[0;34m(entity, operations, *args, **kwargs)\u001b[0m\n\u001b[1;32m    920\u001b[0m \u001b[39m@_begin_create_or_update\u001b[39m\u001b[39m.\u001b[39mregister(OnlineEndpoint)\n\u001b[1;32m    921\u001b[0m \u001b[39mdef\u001b[39;00m \u001b[39m_\u001b[39m(entity: OnlineEndpoint, operations, \u001b[39m*\u001b[39margs, \u001b[39m*\u001b[39m\u001b[39m*\u001b[39mkwargs):\n\u001b[1;32m    922\u001b[0m     module_logger\u001b[39m.\u001b[39mdebug(\u001b[39m\"\u001b[39m\u001b[39mCreating or updating online_endpoints\u001b[39m\u001b[39m\"\u001b[39m)\n\u001b[0;32m--> 923\u001b[0m     \u001b[39mreturn\u001b[39;00m operations[AzureMLResourceType\u001b[39m.\u001b[39;49mONLINE_ENDPOINT]\u001b[39m.\u001b[39;49mbegin_create_or_update(entity, \u001b[39m*\u001b[39;49m\u001b[39m*\u001b[39;49mkwargs)\n",
      "File \u001b[0;32m/opt/homebrew/Caskroom/miniforge/base/envs/azureML/lib/python3.11/site-packages/azure/core/tracing/decorator.py:78\u001b[0m, in \u001b[0;36mdistributed_trace.<locals>.decorator.<locals>.wrapper_use_tracer\u001b[0;34m(*args, **kwargs)\u001b[0m\n\u001b[1;32m     76\u001b[0m span_impl_type \u001b[39m=\u001b[39m settings\u001b[39m.\u001b[39mtracing_implementation()\n\u001b[1;32m     77\u001b[0m \u001b[39mif\u001b[39;00m span_impl_type \u001b[39mis\u001b[39;00m \u001b[39mNone\u001b[39;00m:\n\u001b[0;32m---> 78\u001b[0m     \u001b[39mreturn\u001b[39;00m func(\u001b[39m*\u001b[39;49margs, \u001b[39m*\u001b[39;49m\u001b[39m*\u001b[39;49mkwargs)\n\u001b[1;32m     80\u001b[0m \u001b[39m# Merge span is parameter is set, but only if no explicit parent are passed\u001b[39;00m\n\u001b[1;32m     81\u001b[0m \u001b[39mif\u001b[39;00m merge_span \u001b[39mand\u001b[39;00m \u001b[39mnot\u001b[39;00m passed_in_parent:\n",
      "File \u001b[0;32m/opt/homebrew/Caskroom/miniforge/base/envs/azureML/lib/python3.11/site-packages/azure/ai/ml/operations/_online_endpoint_operations.py:258\u001b[0m, in \u001b[0;36mOnlineEndpointOperations.begin_create_or_update\u001b[0;34m(self, endpoint, local)\u001b[0m\n\u001b[1;32m    256\u001b[0m     log_and_raise_error(ex)\n\u001b[1;32m    257\u001b[0m \u001b[39melse\u001b[39;00m:\n\u001b[0;32m--> 258\u001b[0m     \u001b[39mraise\u001b[39;00m ex\n",
      "File \u001b[0;32m/opt/homebrew/Caskroom/miniforge/base/envs/azureML/lib/python3.11/site-packages/azure/ai/ml/operations/_online_endpoint_operations.py:253\u001b[0m, in \u001b[0;36mOnlineEndpointOperations.begin_create_or_update\u001b[0;34m(self, endpoint, local)\u001b[0m\n\u001b[1;32m    250\u001b[0m         \u001b[39mreturn\u001b[39;00m poller\n\u001b[1;32m    252\u001b[0m     \u001b[39mexcept\u001b[39;00m \u001b[39mException\u001b[39;00m \u001b[39mas\u001b[39;00m ex:\n\u001b[0;32m--> 253\u001b[0m         \u001b[39mraise\u001b[39;00m ex\n\u001b[1;32m    254\u001b[0m \u001b[39mexcept\u001b[39;00m \u001b[39mException\u001b[39;00m \u001b[39mas\u001b[39;00m ex:  \u001b[39m# pylint: disable=broad-except\u001b[39;00m\n\u001b[1;32m    255\u001b[0m     \u001b[39mif\u001b[39;00m \u001b[39misinstance\u001b[39m(ex, (ValidationException, SchemaValidationError)):\n",
      "File \u001b[0;32m/opt/homebrew/Caskroom/miniforge/base/envs/azureML/lib/python3.11/site-packages/azure/ai/ml/operations/_online_endpoint_operations.py:242\u001b[0m, in \u001b[0;36mOnlineEndpointOperations.begin_create_or_update\u001b[0;34m(self, endpoint, local)\u001b[0m\n\u001b[1;32m    237\u001b[0m     \u001b[39mif\u001b[39;00m \u001b[39mhasattr\u001b[39m(endpoint_resource\u001b[39m.\u001b[39mproperties, \u001b[39m\"\u001b[39m\u001b[39mcompute\u001b[39m\u001b[39m\"\u001b[39m):\n\u001b[1;32m    238\u001b[0m         endpoint_resource\u001b[39m.\u001b[39mproperties\u001b[39m.\u001b[39mcompute \u001b[39m=\u001b[39m orchestrators\u001b[39m.\u001b[39mget_asset_arm_id(\n\u001b[1;32m    239\u001b[0m             endpoint_resource\u001b[39m.\u001b[39mproperties\u001b[39m.\u001b[39mcompute,\n\u001b[1;32m    240\u001b[0m             azureml_type\u001b[39m=\u001b[39mAzureMLResourceType\u001b[39m.\u001b[39mCOMPUTE,\n\u001b[1;32m    241\u001b[0m         )\n\u001b[0;32m--> 242\u001b[0m     poller \u001b[39m=\u001b[39m \u001b[39mself\u001b[39;49m\u001b[39m.\u001b[39;49m_online_operation\u001b[39m.\u001b[39;49mbegin_create_or_update(\n\u001b[1;32m    243\u001b[0m         resource_group_name\u001b[39m=\u001b[39;49m\u001b[39mself\u001b[39;49m\u001b[39m.\u001b[39;49m_resource_group_name,\n\u001b[1;32m    244\u001b[0m         workspace_name\u001b[39m=\u001b[39;49m\u001b[39mself\u001b[39;49m\u001b[39m.\u001b[39;49m_workspace_name,\n\u001b[1;32m    245\u001b[0m         endpoint_name\u001b[39m=\u001b[39;49mendpoint\u001b[39m.\u001b[39;49mname,\n\u001b[1;32m    246\u001b[0m         body\u001b[39m=\u001b[39;49mendpoint_resource,\n\u001b[1;32m    247\u001b[0m         \u001b[39mcls\u001b[39;49m\u001b[39m=\u001b[39;49m\u001b[39mlambda\u001b[39;49;00m response, deserialized, headers: OnlineEndpoint\u001b[39m.\u001b[39;49m_from_rest_object(deserialized),\n\u001b[1;32m    248\u001b[0m         \u001b[39m*\u001b[39;49m\u001b[39m*\u001b[39;49m\u001b[39mself\u001b[39;49m\u001b[39m.\u001b[39;49m_init_kwargs,\n\u001b[1;32m    249\u001b[0m     )\n\u001b[1;32m    250\u001b[0m     \u001b[39mreturn\u001b[39;00m poller\n\u001b[1;32m    252\u001b[0m \u001b[39mexcept\u001b[39;00m \u001b[39mException\u001b[39;00m \u001b[39mas\u001b[39;00m ex:\n",
      "File \u001b[0;32m/opt/homebrew/Caskroom/miniforge/base/envs/azureML/lib/python3.11/site-packages/azure/core/tracing/decorator.py:78\u001b[0m, in \u001b[0;36mdistributed_trace.<locals>.decorator.<locals>.wrapper_use_tracer\u001b[0;34m(*args, **kwargs)\u001b[0m\n\u001b[1;32m     76\u001b[0m span_impl_type \u001b[39m=\u001b[39m settings\u001b[39m.\u001b[39mtracing_implementation()\n\u001b[1;32m     77\u001b[0m \u001b[39mif\u001b[39;00m span_impl_type \u001b[39mis\u001b[39;00m \u001b[39mNone\u001b[39;00m:\n\u001b[0;32m---> 78\u001b[0m     \u001b[39mreturn\u001b[39;00m func(\u001b[39m*\u001b[39;49margs, \u001b[39m*\u001b[39;49m\u001b[39m*\u001b[39;49mkwargs)\n\u001b[1;32m     80\u001b[0m \u001b[39m# Merge span is parameter is set, but only if no explicit parent are passed\u001b[39;00m\n\u001b[1;32m     81\u001b[0m \u001b[39mif\u001b[39;00m merge_span \u001b[39mand\u001b[39;00m \u001b[39mnot\u001b[39;00m passed_in_parent:\n",
      "File \u001b[0;32m/opt/homebrew/Caskroom/miniforge/base/envs/azureML/lib/python3.11/site-packages/azure/ai/ml/_restclient/v2022_02_01_preview/operations/_online_endpoints_operations.py:921\u001b[0m, in \u001b[0;36mOnlineEndpointsOperations.begin_create_or_update\u001b[0;34m(self, resource_group_name, workspace_name, endpoint_name, body, **kwargs)\u001b[0m\n\u001b[1;32m    919\u001b[0m cont_token \u001b[39m=\u001b[39m kwargs\u001b[39m.\u001b[39mpop(\u001b[39m'\u001b[39m\u001b[39mcontinuation_token\u001b[39m\u001b[39m'\u001b[39m, \u001b[39mNone\u001b[39;00m)  \u001b[39m# type: Optional[str]\u001b[39;00m\n\u001b[1;32m    920\u001b[0m \u001b[39mif\u001b[39;00m cont_token \u001b[39mis\u001b[39;00m \u001b[39mNone\u001b[39;00m:\n\u001b[0;32m--> 921\u001b[0m     raw_result \u001b[39m=\u001b[39m \u001b[39mself\u001b[39;49m\u001b[39m.\u001b[39;49m_create_or_update_initial(\n\u001b[1;32m    922\u001b[0m         resource_group_name\u001b[39m=\u001b[39;49mresource_group_name,\n\u001b[1;32m    923\u001b[0m         workspace_name\u001b[39m=\u001b[39;49mworkspace_name,\n\u001b[1;32m    924\u001b[0m         endpoint_name\u001b[39m=\u001b[39;49mendpoint_name,\n\u001b[1;32m    925\u001b[0m         body\u001b[39m=\u001b[39;49mbody,\n\u001b[1;32m    926\u001b[0m         content_type\u001b[39m=\u001b[39;49mcontent_type,\n\u001b[1;32m    927\u001b[0m         \u001b[39mcls\u001b[39;49m\u001b[39m=\u001b[39;49m\u001b[39mlambda\u001b[39;49;00m x,y,z: x,\n\u001b[1;32m    928\u001b[0m         \u001b[39m*\u001b[39;49m\u001b[39m*\u001b[39;49mkwargs\n\u001b[1;32m    929\u001b[0m     )\n\u001b[1;32m    930\u001b[0m kwargs\u001b[39m.\u001b[39mpop(\u001b[39m'\u001b[39m\u001b[39merror_map\u001b[39m\u001b[39m'\u001b[39m, \u001b[39mNone\u001b[39;00m)\n\u001b[1;32m    932\u001b[0m \u001b[39mdef\u001b[39;00m \u001b[39mget_long_running_output\u001b[39m(pipeline_response):\n",
      "File \u001b[0;32m/opt/homebrew/Caskroom/miniforge/base/envs/azureML/lib/python3.11/site-packages/azure/ai/ml/_restclient/v2022_02_01_preview/operations/_online_endpoints_operations.py:856\u001b[0m, in \u001b[0;36mOnlineEndpointsOperations._create_or_update_initial\u001b[0;34m(self, resource_group_name, workspace_name, endpoint_name, body, **kwargs)\u001b[0m\n\u001b[1;32m    854\u001b[0m \u001b[39mif\u001b[39;00m response\u001b[39m.\u001b[39mstatus_code \u001b[39mnot\u001b[39;00m \u001b[39min\u001b[39;00m [\u001b[39m200\u001b[39m, \u001b[39m201\u001b[39m]:\n\u001b[1;32m    855\u001b[0m     map_error(status_code\u001b[39m=\u001b[39mresponse\u001b[39m.\u001b[39mstatus_code, response\u001b[39m=\u001b[39mresponse, error_map\u001b[39m=\u001b[39merror_map)\n\u001b[0;32m--> 856\u001b[0m     \u001b[39mraise\u001b[39;00m HttpResponseError(response\u001b[39m=\u001b[39mresponse, error_format\u001b[39m=\u001b[39mARMErrorFormat)\n\u001b[1;32m    858\u001b[0m response_headers \u001b[39m=\u001b[39m {}\n\u001b[1;32m    859\u001b[0m \u001b[39mif\u001b[39;00m response\u001b[39m.\u001b[39mstatus_code \u001b[39m==\u001b[39m \u001b[39m200\u001b[39m:\n",
      "\u001b[0;31mHttpResponseError\u001b[0m: (BadRequest) The request is invalid.\nCode: BadRequest\nMessage: The request is invalid.\nException Details:\t(InferencingClientCallFailed) {{\"errors\":{{\"DeploymentWeights\":[\"Deployments given positive traffic values should be either in a successful or failed state. Unmatched deployments: [alpha]\"]}},\"title\":\"One or more validation errors occurred.\"}}\n\tCode: InferencingClientCallFailed\n\tMessage: {{\"errors\":{{\"DeploymentWeights\":[\"Deployments given positive traffic values should be either in a successful or failed state. Unmatched deployments: [alpha]\"]}},\"title\":\"One or more validation errors occurred.\"}}\nAdditional Information:Type: ComponentName\nInfo: {\n    \"value\": \"managementfrontend\"\n}Type: Correlation\nInfo: {\n    \"value\": {\n        \"operation\": \"24e9d480f6b060b0792c598605257bde\",\n        \"request\": \"a7380859f1bbef8b\"\n    }\n}Type: Environment\nInfo: {\n    \"value\": \"eastus\"\n}Type: Location\nInfo: {\n    \"value\": \"eastus\"\n}Type: Time\nInfo: {\n    \"value\": \"2023-01-26T07:12:19.4392044+00:00\"\n}"
     ]
    },
    {
     "name": "stdout",
     "output_type": "stream",
     "text": [
      "......................................................................"
     ]
    }
   ],
   "source": [
    "endpoint_name=\"MLOps\"\n",
    "\n",
    "trigger_deployment(\n",
    "ml_client,\n",
    "endpoint_name=endpoint_name,\n",
    "model=ml_client.models.get(name=\"mlopsv1\", version=1),\n",
    "env = deployment_env,\n",
    "deployment_details = {\"name\":\"alpha\",\"traffic\":100},\n",
    ")"
   ]
  },
  {
   "cell_type": "markdown",
   "metadata": {},
   "source": [
    "# Testing the endpoint"
   ]
  },
  {
   "cell_type": "code",
   "execution_count": 11,
   "metadata": {},
   "outputs": [
    {
     "name": "stdout",
     "output_type": "stream",
     "text": [
      "Overwriting ./notebooks/inputs.json\n"
     ]
    }
   ],
   "source": [
    "%%writefile ./notebooks/inputs.json\n",
    "{\"d1\":2663,\"d2\":2654.4,\"d3\":2698,\"d4\":2690,\"d5\":2698.12}"
   ]
  },
  {
   "cell_type": "code",
   "execution_count": 15,
   "metadata": {},
   "outputs": [
    {
     "data": {
      "text/plain": [
       "'[[2444.129638671875]]'"
      ]
     },
     "execution_count": 15,
     "metadata": {},
     "output_type": "execute_result"
    }
   ],
   "source": [
    "endpoint_name=\"MLOps\"\n",
    "\n",
    "# test the endpoint (the request will route to blue deployment as set above)\n",
    "ml_client.online_endpoints.invoke(\n",
    "    endpoint_name=endpoint_name,\n",
    "    deployment_name=\"alpha\",\n",
    "    request_file=\"./notebooks/inputs.json\",\n",
    ")"
   ]
  },
  {
   "cell_type": "code",
   "execution_count": null,
   "metadata": {},
   "outputs": [],
   "source": []
  }
 ],
 "metadata": {
  "kernelspec": {
   "display_name": "azureML",
   "language": "python",
   "name": "python3"
  },
  "language_info": {
   "codemirror_mode": {
    "name": "ipython",
    "version": 3
   },
   "file_extension": ".py",
   "mimetype": "text/x-python",
   "name": "python",
   "nbconvert_exporter": "python",
   "pygments_lexer": "ipython3",
   "version": "3.11.0"
  },
  "orig_nbformat": 4,
  "vscode": {
   "interpreter": {
    "hash": "495794734634ed83a223a0ff466dd16659bfe4b87c179f1ac740ad96b06e37ac"
   }
  }
 },
 "nbformat": 4,
 "nbformat_minor": 2
}
