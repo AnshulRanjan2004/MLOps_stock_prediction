{
 "cells": [
  {
   "cell_type": "code",
   "execution_count": 1,
   "metadata": {},
   "outputs": [],
   "source": [
    "import yfinance as yf\n",
    "from datetime import datetime, timedelta\n",
    "import pandas as pd\n",
    "import numpy as np"
   ]
  },
  {
   "cell_type": "code",
   "execution_count": 2,
   "metadata": {},
   "outputs": [],
   "source": [
    "ticker=\"WIPRO.NS\"\n",
    "start=100\n",
    "end=50"
   ]
  },
  {
   "cell_type": "code",
   "execution_count": 3,
   "metadata": {},
   "outputs": [],
   "source": [
    "from jobs.data_download import get_ticker_data"
   ]
  },
  {
   "cell_type": "code",
   "execution_count": 4,
   "metadata": {},
   "outputs": [
    {
     "ename": "TypeError",
     "evalue": "unsupported type for timedelta days component: str",
     "output_type": "error",
     "traceback": [
      "\u001b[0;31m---------------------------------------------------------------------------\u001b[0m",
      "\u001b[0;31mTypeError\u001b[0m                                 Traceback (most recent call last)",
      "Cell \u001b[0;32mIn[4], line 1\u001b[0m\n\u001b[0;32m----> 1\u001b[0m tickerData\u001b[39m=\u001b[39mget_ticker_data(ticker,start,end)\n",
      "File \u001b[0;32m~/Documents/Codebase/MLOps_stock_prediction/jobs/data_download.py:24\u001b[0m, in \u001b[0;36mget_ticker_data\u001b[0;34m(ticker, start, end)\u001b[0m\n\u001b[1;32m     16\u001b[0m \u001b[39m\u001b[39m\u001b[39m\"\"\"\u001b[39;00m\n\u001b[1;32m     17\u001b[0m \u001b[39m1. Download ticker data using YFinance\u001b[39;00m\n\u001b[1;32m     18\u001b[0m \u001b[39m2. Generate data tags\u001b[39;00m\n\u001b[1;32m     19\u001b[0m \u001b[39m3. Write out details to data_upload.yml\u001b[39;00m\n\u001b[1;32m     20\u001b[0m \n\u001b[1;32m     21\u001b[0m \u001b[39m\"\"\"\u001b[39;00m\n\u001b[1;32m     23\u001b[0m \u001b[39m# try:\u001b[39;00m\n\u001b[0;32m---> 24\u001b[0m start \u001b[39m=\u001b[39m \u001b[39mstr\u001b[39m(datetime\u001b[39m.\u001b[39mtoday()\u001b[39m.\u001b[39mdate()\u001b[39m-\u001b[39mtimedelta(days\u001b[39m=\u001b[39;49mstart))\n\u001b[1;32m     25\u001b[0m end \u001b[39m=\u001b[39m \u001b[39mstr\u001b[39m(datetime\u001b[39m.\u001b[39mtoday()\u001b[39m.\u001b[39mdate()\u001b[39m-\u001b[39mtimedelta(days\u001b[39m=\u001b[39mend))\n\u001b[1;32m     27\u001b[0m tickerData\u001b[39m=\u001b[39myf\u001b[39m.\u001b[39mdownload(ticker,start\u001b[39m=\u001b[39mstart, end\u001b[39m=\u001b[39mend, period\u001b[39m=\u001b[39m\u001b[39m'\u001b[39m\u001b[39m1d\u001b[39m\u001b[39m'\u001b[39m)\n",
      "\u001b[0;31mTypeError\u001b[0m: unsupported type for timedelta days component: str"
     ]
    }
   ],
   "source": [
    "tickerData=get_ticker_data(ticker,start,end)"
   ]
  },
  {
   "cell_type": "code",
   "execution_count": null,
   "metadata": {},
   "outputs": [],
   "source": [
    "isinstance(tickerData, pd.DataFrame)"
   ]
  },
  {
   "cell_type": "code",
   "execution_count": null,
   "metadata": {},
   "outputs": [],
   "source": []
  }
 ],
 "metadata": {
  "kernelspec": {
   "display_name": "mlops",
   "language": "python",
   "name": "python3"
  },
  "language_info": {
   "codemirror_mode": {
    "name": "ipython",
    "version": 3
   },
   "file_extension": ".py",
   "mimetype": "text/x-python",
   "name": "python",
   "nbconvert_exporter": "python",
   "pygments_lexer": "ipython3",
   "version": "3.11.4"
  },
  "orig_nbformat": 4
 },
 "nbformat": 4,
 "nbformat_minor": 2
}
